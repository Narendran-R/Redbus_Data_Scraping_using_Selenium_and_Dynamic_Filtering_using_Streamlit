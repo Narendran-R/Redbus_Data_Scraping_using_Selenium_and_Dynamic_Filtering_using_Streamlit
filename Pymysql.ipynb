{
 "cells": [
  {
   "cell_type": "code",
   "execution_count": 4,
   "id": "408a38ae",
   "metadata": {},
   "outputs": [],
   "source": [
    "import pandas as pd\n",
    "import pymysql\n",
    "\n",
    "# List of CSV file paths\n",
    "csv_files = [\n",
    "    \"kerala_bus_details.csv\", \n",
    "    \"kadamba_bus_details.csv\", \n",
    "    \"west_bengal_bus_details.csv\", \n",
    "    \"south_bengal_bus_details.csv\", \n",
    "    \"chandigarh_bus_details.csv\", \n",
    "    \"assam_bus_details.csv\",\n",
    "    \"north_bengal_bus_details.csv\", \n",
    "    \"punjab_bus_details.csv\", \n",
    "    \"rajasthan_bus_details.csv\", \n",
    "    \"uttra_pradesh_bus_details.csv\"\n",
    "]   \n",
    "\n",
    "# Read each CSV file into a DataFrame and store it in a list\n",
    "df_list = [pd.read_csv(file) for file in csv_files]\n",
    "\n",
    "# Concatenate all DataFrames in the list\n",
    "combined_df = pd.concat(df_list, ignore_index=True)\n",
    "\n",
    "# Add ID column\n",
    "combined_df.insert(0, 'id', range(1, len(combined_df) + 1))\n",
    "\n",
    "# Clean up DataFrame\n",
    "combined_df['Price'] = combined_df['Price'].str.replace('INR ', '', regex=False)\n",
    "combined_df['Seat_Availability'] = combined_df['Seat_Availability'].str.extract('(\\d+)')\n",
    "\n",
    "# MySQL connection\n",
    "myconnection = pymysql.connect(\n",
    "    host=\"127.0.0.1\", \n",
    "    user=\"root\", \n",
    "    passwd=\"Narendran18*\", \n",
    "    database=\"redbus\"\n",
    ")\n",
    "\n",
    "# Drop null values\n",
    "combined_df = combined_df.dropna()\n",
    "\n",
    "# Prepare column definitions for MySQL\n",
    "a = \",\".join(f\"{i} {j}\" for i, j in zip(combined_df.columns, combined_df.dtypes)).replace(\"float64\", \"float\").replace(\"object\", \"text\").replace(\"int64\", \"int\")\n",
    "\n",
    "# Create table\n",
    "table_name = \"bus_routes\"\n",
    "myconnection.cursor().execute(f\"CREATE TABLE IF NOT EXISTS {table_name} ({a})\")\n",
    "\n",
    "# Insert data into MySQL\n",
    "for i in range(len(combined_df)):\n",
    "    myconnection.cursor().execute(f\"INSERT INTO {table_name} VALUES {tuple(combined_df.iloc[i])}\")\n",
    "myconnection.commit()\n",
    "\n",
    "# Close the MySQL connection\n",
    "myconnection.close()\n"
   ]
  },
  {
   "cell_type": "code",
   "execution_count": null,
   "id": "48f0b6c5",
   "metadata": {},
   "outputs": [],
   "source": []
  },
  {
   "cell_type": "code",
   "execution_count": null,
   "id": "31bc01ac",
   "metadata": {},
   "outputs": [],
   "source": []
  }
 ],
 "metadata": {
  "kernelspec": {
   "display_name": "Python 3 (ipykernel)",
   "language": "python",
   "name": "python3"
  },
  "language_info": {
   "codemirror_mode": {
    "name": "ipython",
    "version": 3
   },
   "file_extension": ".py",
   "mimetype": "text/x-python",
   "name": "python",
   "nbconvert_exporter": "python",
   "pygments_lexer": "ipython3",
   "version": "3.11.5"
  }
 },
 "nbformat": 4,
 "nbformat_minor": 5
}
